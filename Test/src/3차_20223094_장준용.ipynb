{
 "cells": [
  {
   "cell_type": "code",
   "execution_count": 1,
   "id": "3d94661d",
   "metadata": {},
   "outputs": [],
   "source": [
    "# 이산수학_3주차_과제"
   ]
  },
  {
   "cell_type": "code",
   "execution_count": 2,
   "id": "4c9b4b23",
   "metadata": {},
   "outputs": [
    {
     "name": "stdout",
     "output_type": "stream",
     "text": [
      "최대값 333 (은)는 마지막으로 리스트의 5 번째에 위치한다.\n",
      "[4, 7, 9, 8, 333, 1, 2, 1, 13, 4, 5, 15, 25]\n"
     ]
    }
   ],
   "source": [
    "# 이산수학 3주차 실습 1번\n",
    "\n",
    "list = [4,7,9,8,333,1,2,1,13,4,5,15,25]       \n",
    "                                 \n",
    "def max_search(list):            # list의 최대값을 찾는 함수\n",
    "    n = len(list)\n",
    "    maxValue = list[0]\n",
    "    for i in range(1, n):\n",
    "        if list[i] > maxValue:\n",
    "            maxValue = list[i]\n",
    "    return maxValue\n",
    "\n",
    "\n",
    "\n",
    "def max_Index_search(list) :     # list의 최대값이 마지막으로 나오는 위치를 찾는 함수\n",
    "    n = len(list)               \n",
    "    maxIndex = n-1\n",
    "    for i in range(n-1,0,-1):\n",
    "        if list[i] > list[maxIndex] :\n",
    "            maxIndex = i\n",
    "    \n",
    "    return maxIndex\n",
    "            \n",
    "\n",
    "print(\"최대값\", max_search(list),\"(은)는 마지막으로 리스트의\" ,max_Index_search(list)+1 ,\"번째에 위치한다.\")\n",
    "print(list)\n"
   ]
  },
  {
   "cell_type": "code",
   "execution_count": 3,
   "id": "d98bbf38",
   "metadata": {},
   "outputs": [
    {
     "name": "stdout",
     "output_type": "stream",
     "text": [
      "최대값 9 (은)는 마지막으로 리스트의 10 번째에 위치한다.\n",
      "[4, 7, 9, 2, 4, 9, 5, 6, 7, 9, 4, 6]\n"
     ]
    }
   ],
   "source": [
    "# 1번 문제 점검하기\n",
    "\n",
    "X = [4,7,9,2,4,9,5,6,7,9,4,6]\n",
    "list = X\n",
    "\n",
    "def max_search(list):            # list의 최대값을 찾는 함수\n",
    "    n = len(list)\n",
    "    maxValue = list[0]\n",
    "    for i in range(1, n):\n",
    "        if list[i] > maxValue:\n",
    "            maxValue = list[i]\n",
    "    return maxValue\n",
    "\n",
    "\n",
    "\n",
    "def max_Index_search(list) :     # list의 최대값이 처음으로 나오는 위치를 찾는 함수\n",
    "    n = len(list)               \n",
    "    maxIndex = n-1\n",
    "    for i in range(n-1,0,-1):\n",
    "        if list[i] > list[maxIndex] :\n",
    "        \n",
    "            maxIndex = i\n",
    "    \n",
    "    return maxIndex\n",
    "            \n",
    "\n",
    "print(\"최대값\", max_search(list),\"(은)는 마지막으로 리스트의\" ,max_Index_search(list)+1 ,\"번째에 위치한다.\")\n",
    "print(list)"
   ]
  },
  {
   "cell_type": "code",
   "execution_count": 4,
   "id": "a965685a",
   "metadata": {},
   "outputs": [
    {
     "name": "stdout",
     "output_type": "stream",
     "text": [
      "[8, 8, 1, 7, 2, 10, 12, 9, 0, 7, 14, 12, 4, 0, 12, 8, 2, 2, 9, 11]\n",
      "최대값 14 (은)는 마지막으로 리스트의 11 번째에 위치한다.\n"
     ]
    }
   ],
   "source": [
    "# 2번문제 실습\n",
    "import random\n",
    "\n",
    "\n",
    "random_list = []\n",
    "for i in range(20):\n",
    "    random_list.append(random.randint(0,15))\n",
    "\n",
    "print(random_list)\n",
    "    \n",
    "\n",
    "# -------------------------------------------------------\n",
    "\n",
    "def max_search(random_list):            # list의 최대값을 찾는 함수\n",
    "    n = len(random_list)\n",
    "    maxValue = random_list[0]\n",
    "    for i in range(1, n):\n",
    "        if random_list[i] > maxValue:\n",
    "            maxValue = random_list[i]\n",
    "    return maxValue\n",
    "\n",
    "def max_Index_search(random_list) :     # list의 최대값이 처음으로 나오는 위치를 찾는 함수\n",
    "    n = len(random_list)               \n",
    "    maxIndex = n-1\n",
    "    for i in range(n-1,0,-1):\n",
    "        if random_list[i] > random_list[maxIndex] :\n",
    "            maxIndex = i\n",
    "    \n",
    "    return maxIndex\n",
    "\n",
    "# ---------------------------------------------------------\n",
    "print(\"최대값\", max_search(random_list),\"(은)는 마지막으로 리스트의\" ,max_Index_search(random_list)+1 ,\"번째에 위치한다.\")\n",
    "\n"
   ]
  },
  {
   "cell_type": "code",
   "execution_count": 6,
   "id": "df2d0e79",
   "metadata": {},
   "outputs": [
    {
     "name": "stdout",
     "output_type": "stream",
     "text": [
      "주어진 정수 리스트에서 최대값이 나오는 모든 위치 찾기\n",
      "------------------------------------------------------------\n",
      "주어진 정수 리스트에서 최대값은 9 입니다\n",
      "주어진 정수 리스트에서 최대값이 나오는 모든 위치는\n",
      "3 6 10 "
     ]
    }
   ],
   "source": [
    "# 3번문제 실습\n",
    "\n",
    "list = [4,7,9,2,4,9,5,6,7,9,4,6]\n",
    "\n",
    "def max_search(list):            # list의 최대값을 찾는 함수\n",
    "    n = len(list)\n",
    "    maxValue = list[0]\n",
    "    for i in range(1, n):\n",
    "        if list[i] > maxValue:\n",
    "            maxValue = list[i]\n",
    "    return maxValue\n",
    "\n",
    "def max_Index_search_all(list) :     # list의 최대값이 나오는 모든 위치 찾는 함수\n",
    "        n = len(list)               \n",
    "        for i in range(1,n) :\n",
    "            all_list = []\n",
    "            if list[i] == max_search(list) :  \n",
    "                \n",
    "                all_list.append(i)\n",
    "                print(i+1, end=\" \")\n",
    "    \n",
    "# ---------------------------------------------------------\n",
    "\n",
    "\n",
    "print(\"주어진 정수 리스트에서 최대값이 나오는 모든 위치 찾기\")\n",
    "print(\"------------------------------------------------------------\")\n",
    "print(\"주어진 정수 리스트에서 최대값은\", max_search(list), \"입니다\")\n",
    "print(\"주어진 정수 리스트에서 최대값이 나오는 모든 위치는\")\n",
    "max_Index_search_all(list)\n",
    "            \n"
   ]
  },
  {
   "cell_type": "code",
   "execution_count": 7,
   "id": "1ed17d3a",
   "metadata": {},
   "outputs": [
    {
     "name": "stdout",
     "output_type": "stream",
     "text": [
      "[18, 1, 17, 5, 7, 14, 10, 11, 12, 15]\n",
      " 1 5 7 10 11 12 14 15 17 18"
     ]
    }
   ],
   "source": [
    "# 4번문제 실습\n",
    "\n",
    "import random\n",
    "\n",
    "\n",
    "def insertionSort(random_list):\n",
    "    for i in range(1, len(random_list)):\n",
    "  \n",
    "        key = random_list[i]\n",
    "    \n",
    "    \n",
    "        j = i-1\n",
    "        while j >= 0 and key < random_list[j] :\n",
    "                random_list[j + 1] = random_list[j]\n",
    "                j -= 1\n",
    "        random_list[j + 1] = key\n",
    "\n",
    "random_list = []\n",
    "for i in range(10):\n",
    "    random_list.append(random.randint(0,19))\n",
    "\n",
    "print(random_list)\n",
    "insertionSort(random_list)\n",
    "for i in range(len(random_list)):\n",
    "    print (\"% d\" % random_list[i], end=\"\")\n",
    "\n"
   ]
  },
  {
   "cell_type": "code",
   "execution_count": null,
   "id": "86a605c0",
   "metadata": {},
   "outputs": [],
   "source": []
  }
 ],
 "metadata": {
  "kernelspec": {
   "display_name": "Python 3 (ipykernel)",
   "language": "python",
   "name": "python3"
  },
  "language_info": {
   "codemirror_mode": {
    "name": "ipython",
    "version": 3
   },
   "file_extension": ".py",
   "mimetype": "text/x-python",
   "name": "python",
   "nbconvert_exporter": "python",
   "pygments_lexer": "ipython3",
   "version": "3.9.12"
  }
 },
 "nbformat": 4,
 "nbformat_minor": 5
}
